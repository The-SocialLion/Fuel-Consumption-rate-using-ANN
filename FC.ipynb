{
  "nbformat": 4,
  "nbformat_minor": 0,
  "metadata": {
    "colab": {
      "name": "FC.ipynb",
      "provenance": []
    },
    "kernelspec": {
      "name": "python3",
      "display_name": "Python 3"
    }
  },
  "cells": [
    {
      "cell_type": "code",
      "metadata": {
        "id": "tqOgr_dZFbyN"
      },
      "source": [
        "import numpy as np\r\n",
        "import matplotlib.pyplot as plt\r\n",
        "import tensorflow as tf\r\n",
        "import pandas as pd"
      ],
      "execution_count": 1,
      "outputs": []
    },
    {
      "cell_type": "code",
      "metadata": {
        "colab": {
          "base_uri": "https://localhost:8080/",
          "height": 419
        },
        "id": "5nZh8p8sFu6r",
        "outputId": "36519d79-e040-4a38-c7fc-c72f823cff2a"
      },
      "source": [
        "df=pd.read_csv('emissions.csv')\r\n",
        "df=df.dropna(how='any')\r\n",
        "id=df['id']\r\n",
        "df=df.drop(columns=['efid','id'])\r\n",
        "df"
      ],
      "execution_count": 122,
      "outputs": [
        {
          "output_type": "execute_result",
          "data": {
            "text/html": [
              "<div>\n",
              "<style scoped>\n",
              "    .dataframe tbody tr th:only-of-type {\n",
              "        vertical-align: middle;\n",
              "    }\n",
              "\n",
              "    .dataframe tbody tr th {\n",
              "        vertical-align: top;\n",
              "    }\n",
              "\n",
              "    .dataframe thead th {\n",
              "        text-align: right;\n",
              "    }\n",
              "</style>\n",
              "<table border=\"1\" class=\"dataframe\">\n",
              "  <thead>\n",
              "    <tr style=\"text-align: right;\">\n",
              "      <th></th>\n",
              "      <th>salesArea</th>\n",
              "      <th>score</th>\n",
              "      <th>scoreAlt</th>\n",
              "      <th>smartwayScore</th>\n",
              "      <th>standard</th>\n",
              "      <th>stdText</th>\n",
              "    </tr>\n",
              "  </thead>\n",
              "  <tbody>\n",
              "    <tr>\n",
              "      <th>0</th>\n",
              "      <td>3</td>\n",
              "      <td>1.0</td>\n",
              "      <td>-1.0</td>\n",
              "      <td>-1</td>\n",
              "      <td>B9</td>\n",
              "      <td>BIN 9</td>\n",
              "    </tr>\n",
              "    <tr>\n",
              "      <th>1</th>\n",
              "      <td>7</td>\n",
              "      <td>1.0</td>\n",
              "      <td>-1.0</td>\n",
              "      <td>-1</td>\n",
              "      <td>L1</td>\n",
              "      <td>LEV</td>\n",
              "    </tr>\n",
              "    <tr>\n",
              "      <th>2</th>\n",
              "      <td>3</td>\n",
              "      <td>1.0</td>\n",
              "      <td>-1.0</td>\n",
              "      <td>-1</td>\n",
              "      <td>B9</td>\n",
              "      <td>BIN 9</td>\n",
              "    </tr>\n",
              "    <tr>\n",
              "      <th>3</th>\n",
              "      <td>7</td>\n",
              "      <td>1.0</td>\n",
              "      <td>-1.0</td>\n",
              "      <td>-1</td>\n",
              "      <td>L1</td>\n",
              "      <td>LEV</td>\n",
              "    </tr>\n",
              "    <tr>\n",
              "      <th>4</th>\n",
              "      <td>3</td>\n",
              "      <td>1.0</td>\n",
              "      <td>-1.0</td>\n",
              "      <td>-1</td>\n",
              "      <td>B9</td>\n",
              "      <td>BIN 9</td>\n",
              "    </tr>\n",
              "    <tr>\n",
              "      <th>...</th>\n",
              "      <td>...</td>\n",
              "      <td>...</td>\n",
              "      <td>...</td>\n",
              "      <td>...</td>\n",
              "      <td>...</td>\n",
              "      <td>...</td>\n",
              "    </tr>\n",
              "    <tr>\n",
              "      <th>33529</th>\n",
              "      <td>3</td>\n",
              "      <td>7.0</td>\n",
              "      <td>-1.0</td>\n",
              "      <td>2</td>\n",
              "      <td>T3B30</td>\n",
              "      <td>Federal Tier 3 Bin 30</td>\n",
              "    </tr>\n",
              "    <tr>\n",
              "      <th>33530</th>\n",
              "      <td>3</td>\n",
              "      <td>7.0</td>\n",
              "      <td>-1.0</td>\n",
              "      <td>2</td>\n",
              "      <td>T3B30</td>\n",
              "      <td>Federal Tier 3 Bin 30</td>\n",
              "    </tr>\n",
              "    <tr>\n",
              "      <th>33531</th>\n",
              "      <td>7</td>\n",
              "      <td>7.0</td>\n",
              "      <td>-1.0</td>\n",
              "      <td>2</td>\n",
              "      <td>L3SULEV30</td>\n",
              "      <td>LEV-III SULEV30</td>\n",
              "    </tr>\n",
              "    <tr>\n",
              "      <th>33532</th>\n",
              "      <td>7</td>\n",
              "      <td>7.0</td>\n",
              "      <td>-1.0</td>\n",
              "      <td>2</td>\n",
              "      <td>L3SULEV30</td>\n",
              "      <td>LEV-III SULEV30</td>\n",
              "    </tr>\n",
              "    <tr>\n",
              "      <th>33533</th>\n",
              "      <td>3</td>\n",
              "      <td>7.0</td>\n",
              "      <td>-1.0</td>\n",
              "      <td>2</td>\n",
              "      <td>T3B30</td>\n",
              "      <td>Federal Tier 3 Bin 30</td>\n",
              "    </tr>\n",
              "  </tbody>\n",
              "</table>\n",
              "<p>33520 rows × 6 columns</p>\n",
              "</div>"
            ],
            "text/plain": [
              "       salesArea  score  ...   standard                stdText\n",
              "0              3    1.0  ...         B9                  BIN 9\n",
              "1              7    1.0  ...         L1                    LEV\n",
              "2              3    1.0  ...         B9                  BIN 9\n",
              "3              7    1.0  ...         L1                    LEV\n",
              "4              3    1.0  ...         B9                  BIN 9\n",
              "...          ...    ...  ...        ...                    ...\n",
              "33529          3    7.0  ...      T3B30  Federal Tier 3 Bin 30\n",
              "33530          3    7.0  ...      T3B30  Federal Tier 3 Bin 30\n",
              "33531          7    7.0  ...  L3SULEV30        LEV-III SULEV30\n",
              "33532          7    7.0  ...  L3SULEV30        LEV-III SULEV30\n",
              "33533          3    7.0  ...      T3B30  Federal Tier 3 Bin 30\n",
              "\n",
              "[33520 rows x 6 columns]"
            ]
          },
          "metadata": {
            "tags": []
          },
          "execution_count": 122
        }
      ]
    },
    {
      "cell_type": "code",
      "metadata": {
        "colab": {
          "base_uri": "https://localhost:8080/"
        },
        "id": "loCoFIm-Gixc",
        "outputId": "cf78bf07-47f5-4df4-ca83-638363e4d898"
      },
      "source": [
        "df['scoreAlt'].unique()"
      ],
      "execution_count": 123,
      "outputs": [
        {
          "output_type": "execute_result",
          "data": {
            "text/plain": [
              "array([-1.,  5.,  1.,  2.,  6.])"
            ]
          },
          "metadata": {
            "tags": []
          },
          "execution_count": 123
        }
      ]
    },
    {
      "cell_type": "code",
      "metadata": {
        "colab": {
          "base_uri": "https://localhost:8080/"
        },
        "id": "MYMHjxSgGq0q",
        "outputId": "5f4abc2a-ebee-4a7f-8ccc-6f8e1a653654"
      },
      "source": [
        "df['smartwayScore'].unique()"
      ],
      "execution_count": 124,
      "outputs": [
        {
          "output_type": "execute_result",
          "data": {
            "text/plain": [
              "array([-1,  1,  2])"
            ]
          },
          "metadata": {
            "tags": []
          },
          "execution_count": 124
        }
      ]
    },
    {
      "cell_type": "code",
      "metadata": {
        "colab": {
          "base_uri": "https://localhost:8080/"
        },
        "id": "RI_tWlDHGwNu",
        "outputId": "cf36374e-eea3-4848-f315-fa6904bf2b5d"
      },
      "source": [
        "df['standard'].unique()"
      ],
      "execution_count": 125,
      "outputs": [
        {
          "output_type": "execute_result",
          "data": {
            "text/plain": [
              "array(['B9', 'L1', 'U1', 'B8', 'B5', 'S2', 'T1', 'L2', 'B7', 'U2', 'LEV',\n",
              "       'B10', 'S1', 'SLEV', 'B3', 'ULEV', 'B4', 'B2', 'L2OP', 'B1', 'ZEV',\n",
              "       'PZEV', 'L3LEV160', 'L3SULEV30', 'L3ULEV125', 'L3ULEV70',\n",
              "       'L2ULEV125', 'L3SULEV30/TZEV', 'L2SULEV30/PZ', 'L3SULEV30/PZ',\n",
              "       'OT', 'T3B125', 'T3B70', 'T3B85', 'T3B110', 'T3B30', 'T3B0', 'B6',\n",
              "       'S2/TZEV', 'L3SULEV30/PZEV', 'T3B160', 'L2LEV160', 'L3ULEV50',\n",
              "       'L2SULEV30/PZEV', 'T3B50', 'L2SULEV30/TZEV'], dtype=object)"
            ]
          },
          "metadata": {
            "tags": []
          },
          "execution_count": 125
        }
      ]
    },
    {
      "cell_type": "code",
      "metadata": {
        "colab": {
          "base_uri": "https://localhost:8080/"
        },
        "id": "qpPJ6pD8G2kv",
        "outputId": "3b94c8be-42ea-4e47-99ca-85e987d04492"
      },
      "source": [
        "df['stdText'].unique()"
      ],
      "execution_count": 126,
      "outputs": [
        {
          "output_type": "execute_result",
          "data": {
            "text/plain": [
              "array(['BIN 9', 'LEV', 'ULEV', 'BIN 8', 'BIN 5', 'SULEV II', 'Tier 1',\n",
              "       'LEV II', 'BIN 7', 'ULEV II', 'Bin 9', 'LEV-II SULEV', 'BIN 10',\n",
              "       'SULEV', 'BIN 3', 'Bin 5', 'BIN 4', 'Bin 8', 'LEV-II ULEV',\n",
              "       'LEV-II LEV', 'Bin 10', 'BIN 2', 'Bin 2', 'Bin 4',\n",
              "       'LEV II Optional', 'BIN 1', 'ZEV', 'Bin 3', 'PZEV', 'Bin 1',\n",
              "       'LEV-III LEV160', 'LEV-III SULEV30', 'LEV-III ULEV125',\n",
              "       'LEV-III ULEV70', 'LEV-II ULEV125',\n",
              "       'California LEV-III SULEV30/PZEV', 'Other',\n",
              "       'Federal Tier 3 Bin 125', 'Federal Tier 3 Bin 70',\n",
              "       'Federal Tier 3 Transitional Bin 85',\n",
              "       'Federal Tier 3 Transitional Bin 110', 'Federal Tier 3 Bin 30',\n",
              "       'Federal Tier 3 Bin 0', 'Bin 6', 'Federal Tier 3 Bin 160',\n",
              "       'California LEV-III SULEV30/TZEV', 'California LEV-II LEV160',\n",
              "       'California LEV-III ULEV50', 'Federal Tier 3 Bin 50',\n",
              "       'California LEV-II SULEV30/TZEV'], dtype=object)"
            ]
          },
          "metadata": {
            "tags": []
          },
          "execution_count": 126
        }
      ]
    },
    {
      "cell_type": "code",
      "metadata": {
        "id": "tGJ6jJ6TG9e_"
      },
      "source": [
        "from sklearn.preprocessing import LabelEncoder\r\n",
        "le=LabelEncoder()\r\n",
        "df['standard']=le.fit_transform(df['standard'])\r\n",
        "df['stdText']=le.fit_transform(df['stdText'])"
      ],
      "execution_count": 127,
      "outputs": []
    },
    {
      "cell_type": "code",
      "metadata": {
        "id": "QZ3TP05hJnHJ"
      },
      "source": [
        "from sklearn.preprocessing import LabelEncoder\r\n",
        "le1=LabelEncoder()\r\n",
        "df['scoreAlt']=le1.fit_transform(df['scoreAlt'])\r\n",
        "df['smartwayScore']=le1.fit_transform(df['smartwayScore'])\r\n"
      ],
      "execution_count": 128,
      "outputs": []
    },
    {
      "cell_type": "code",
      "metadata": {
        "colab": {
          "base_uri": "https://localhost:8080/"
        },
        "id": "5ndu6c2FJAuL",
        "outputId": "4770a6a2-f5f0-45a9-eb48-bc84b1a74bf0"
      },
      "source": [
        "df['standard'].unique()"
      ],
      "execution_count": 129,
      "outputs": [
        {
          "output_type": "execute_result",
          "data": {
            "text/plain": [
              "array([ 9, 10, 42,  8,  5, 30, 33, 11,  7, 43, 26,  1, 29, 32,  3, 44,  4,\n",
              "        2, 13,  0, 45, 28, 18, 19, 23, 25, 17, 22, 14, 20, 27, 36, 40, 41,\n",
              "       35, 38, 34,  6, 31, 21, 37, 12, 24, 15, 39, 16])"
            ]
          },
          "metadata": {
            "tags": []
          },
          "execution_count": 129
        }
      ]
    },
    {
      "cell_type": "code",
      "metadata": {
        "colab": {
          "base_uri": "https://localhost:8080/"
        },
        "id": "Ev71Ug4RJGrn",
        "outputId": "3619f688-aca1-4a55-810c-7c5fedef985c"
      },
      "source": [
        "df['stdText'].unique()"
      ],
      "execution_count": 130,
      "outputs": [
        {
          "output_type": "execute_result",
          "data": {
            "text/plain": [
              "array([ 8, 31, 47,  7,  5, 45, 46, 32,  6, 48, 17, 35,  1, 44,  3, 14,  4,\n",
              "       16, 36, 34, 10,  2, 11, 13, 33,  0, 49, 12, 43,  9, 38, 39, 40, 41,\n",
              "       37, 20, 42, 24, 28, 30, 29, 26, 23, 15, 25, 21, 18, 22, 27, 19])"
            ]
          },
          "metadata": {
            "tags": []
          },
          "execution_count": 130
        }
      ]
    },
    {
      "cell_type": "code",
      "metadata": {
        "colab": {
          "base_uri": "https://localhost:8080/",
          "height": 419
        },
        "id": "l79F9BuRI8_e",
        "outputId": "e2986164-9ad9-409f-8317-0ce59110868a"
      },
      "source": [
        "df\r\n"
      ],
      "execution_count": 131,
      "outputs": [
        {
          "output_type": "execute_result",
          "data": {
            "text/html": [
              "<div>\n",
              "<style scoped>\n",
              "    .dataframe tbody tr th:only-of-type {\n",
              "        vertical-align: middle;\n",
              "    }\n",
              "\n",
              "    .dataframe tbody tr th {\n",
              "        vertical-align: top;\n",
              "    }\n",
              "\n",
              "    .dataframe thead th {\n",
              "        text-align: right;\n",
              "    }\n",
              "</style>\n",
              "<table border=\"1\" class=\"dataframe\">\n",
              "  <thead>\n",
              "    <tr style=\"text-align: right;\">\n",
              "      <th></th>\n",
              "      <th>salesArea</th>\n",
              "      <th>score</th>\n",
              "      <th>scoreAlt</th>\n",
              "      <th>smartwayScore</th>\n",
              "      <th>standard</th>\n",
              "      <th>stdText</th>\n",
              "    </tr>\n",
              "  </thead>\n",
              "  <tbody>\n",
              "    <tr>\n",
              "      <th>0</th>\n",
              "      <td>3</td>\n",
              "      <td>1.0</td>\n",
              "      <td>0</td>\n",
              "      <td>0</td>\n",
              "      <td>9</td>\n",
              "      <td>8</td>\n",
              "    </tr>\n",
              "    <tr>\n",
              "      <th>1</th>\n",
              "      <td>7</td>\n",
              "      <td>1.0</td>\n",
              "      <td>0</td>\n",
              "      <td>0</td>\n",
              "      <td>10</td>\n",
              "      <td>31</td>\n",
              "    </tr>\n",
              "    <tr>\n",
              "      <th>2</th>\n",
              "      <td>3</td>\n",
              "      <td>1.0</td>\n",
              "      <td>0</td>\n",
              "      <td>0</td>\n",
              "      <td>9</td>\n",
              "      <td>8</td>\n",
              "    </tr>\n",
              "    <tr>\n",
              "      <th>3</th>\n",
              "      <td>7</td>\n",
              "      <td>1.0</td>\n",
              "      <td>0</td>\n",
              "      <td>0</td>\n",
              "      <td>10</td>\n",
              "      <td>31</td>\n",
              "    </tr>\n",
              "    <tr>\n",
              "      <th>4</th>\n",
              "      <td>3</td>\n",
              "      <td>1.0</td>\n",
              "      <td>0</td>\n",
              "      <td>0</td>\n",
              "      <td>9</td>\n",
              "      <td>8</td>\n",
              "    </tr>\n",
              "    <tr>\n",
              "      <th>...</th>\n",
              "      <td>...</td>\n",
              "      <td>...</td>\n",
              "      <td>...</td>\n",
              "      <td>...</td>\n",
              "      <td>...</td>\n",
              "      <td>...</td>\n",
              "    </tr>\n",
              "    <tr>\n",
              "      <th>33529</th>\n",
              "      <td>3</td>\n",
              "      <td>7.0</td>\n",
              "      <td>0</td>\n",
              "      <td>2</td>\n",
              "      <td>38</td>\n",
              "      <td>26</td>\n",
              "    </tr>\n",
              "    <tr>\n",
              "      <th>33530</th>\n",
              "      <td>3</td>\n",
              "      <td>7.0</td>\n",
              "      <td>0</td>\n",
              "      <td>2</td>\n",
              "      <td>38</td>\n",
              "      <td>26</td>\n",
              "    </tr>\n",
              "    <tr>\n",
              "      <th>33531</th>\n",
              "      <td>7</td>\n",
              "      <td>7.0</td>\n",
              "      <td>0</td>\n",
              "      <td>2</td>\n",
              "      <td>19</td>\n",
              "      <td>39</td>\n",
              "    </tr>\n",
              "    <tr>\n",
              "      <th>33532</th>\n",
              "      <td>7</td>\n",
              "      <td>7.0</td>\n",
              "      <td>0</td>\n",
              "      <td>2</td>\n",
              "      <td>19</td>\n",
              "      <td>39</td>\n",
              "    </tr>\n",
              "    <tr>\n",
              "      <th>33533</th>\n",
              "      <td>3</td>\n",
              "      <td>7.0</td>\n",
              "      <td>0</td>\n",
              "      <td>2</td>\n",
              "      <td>38</td>\n",
              "      <td>26</td>\n",
              "    </tr>\n",
              "  </tbody>\n",
              "</table>\n",
              "<p>33520 rows × 6 columns</p>\n",
              "</div>"
            ],
            "text/plain": [
              "       salesArea  score  scoreAlt  smartwayScore  standard  stdText\n",
              "0              3    1.0         0              0         9        8\n",
              "1              7    1.0         0              0        10       31\n",
              "2              3    1.0         0              0         9        8\n",
              "3              7    1.0         0              0        10       31\n",
              "4              3    1.0         0              0         9        8\n",
              "...          ...    ...       ...            ...       ...      ...\n",
              "33529          3    7.0         0              2        38       26\n",
              "33530          3    7.0         0              2        38       26\n",
              "33531          7    7.0         0              2        19       39\n",
              "33532          7    7.0         0              2        19       39\n",
              "33533          3    7.0         0              2        38       26\n",
              "\n",
              "[33520 rows x 6 columns]"
            ]
          },
          "metadata": {
            "tags": []
          },
          "execution_count": 131
        }
      ]
    },
    {
      "cell_type": "code",
      "metadata": {
        "id": "eMAOTveLKOtw"
      },
      "source": [
        "X=df.iloc[:,:-2].values\r\n",
        "y=df.iloc[:,-2].values\r\n",
        "z=df.iloc[:,-1].values"
      ],
      "execution_count": 132,
      "outputs": []
    },
    {
      "cell_type": "code",
      "metadata": {
        "colab": {
          "base_uri": "https://localhost:8080/"
        },
        "id": "2hrk3-cCKfJd",
        "outputId": "173ead77-97e7-4a98-861b-51f7279303e4"
      },
      "source": [
        "X"
      ],
      "execution_count": 133,
      "outputs": [
        {
          "output_type": "execute_result",
          "data": {
            "text/plain": [
              "array([[3., 1., 0., 0.],\n",
              "       [7., 1., 0., 0.],\n",
              "       [3., 1., 0., 0.],\n",
              "       ...,\n",
              "       [7., 7., 0., 2.],\n",
              "       [7., 7., 0., 2.],\n",
              "       [3., 7., 0., 2.]])"
            ]
          },
          "metadata": {
            "tags": []
          },
          "execution_count": 133
        }
      ]
    },
    {
      "cell_type": "code",
      "metadata": {
        "colab": {
          "base_uri": "https://localhost:8080/"
        },
        "id": "bFO8sMH-KdD_",
        "outputId": "fdfbe0c2-e7cd-4878-80f8-b30d685edb3d"
      },
      "source": [
        "y"
      ],
      "execution_count": 134,
      "outputs": [
        {
          "output_type": "execute_result",
          "data": {
            "text/plain": [
              "array([ 9, 10,  9, ..., 19, 19, 38])"
            ]
          },
          "metadata": {
            "tags": []
          },
          "execution_count": 134
        }
      ]
    },
    {
      "cell_type": "code",
      "metadata": {
        "colab": {
          "base_uri": "https://localhost:8080/"
        },
        "id": "8ZgQ0oTPLGfr",
        "outputId": "ca9f987e-b76f-4504-8bf9-20a2df8168df"
      },
      "source": [
        "z"
      ],
      "execution_count": 135,
      "outputs": [
        {
          "output_type": "execute_result",
          "data": {
            "text/plain": [
              "array([ 8, 31,  8, ..., 39, 39, 26])"
            ]
          },
          "metadata": {
            "tags": []
          },
          "execution_count": 135
        }
      ]
    },
    {
      "cell_type": "code",
      "metadata": {
        "id": "SThNo3XYKhAr"
      },
      "source": [
        "from sklearn.model_selection import train_test_split\r\n",
        "X_train, X_test, y_train, y_test= train_test_split(X, y, test_size = 0.25 ,random_state = 1)"
      ],
      "execution_count": 137,
      "outputs": []
    },
    {
      "cell_type": "code",
      "metadata": {
        "id": "iqGaSdklVm67"
      },
      "source": [
        "from sklearn.model_selection import train_test_split\r\n",
        "X_train1, X_test1, z_train,z_test = train_test_split(X, z, test_size = 0.25 ,random_state = 1)"
      ],
      "execution_count": 138,
      "outputs": []
    },
    {
      "cell_type": "code",
      "metadata": {
        "id": "hrQLGQcxNSJ9"
      },
      "source": [
        "y_train=tf.keras.utils.to_categorical(y_train)\r\n",
        "y_test=tf.keras.utils.to_categorical(y_test)\r\n",
        "z_train=tf.keras.utils.to_categorical(z_train)\r\n",
        "z_test=tf.keras.utils.to_categorical(z_test)\r\n"
      ],
      "execution_count": 139,
      "outputs": []
    },
    {
      "cell_type": "code",
      "metadata": {
        "id": "vwPMOPPPKq4m"
      },
      "source": [
        "ann = tf.keras.models.Sequential()\r\n",
        "ann.add(tf.keras.layers.Dense(units=50,activation='relu'))\r\n",
        "ann.add(tf.keras.layers.Dense(units=100,activation='relu'))\r\n",
        "ann.add(tf.keras.layers.Dense(units=150,activation='relu'))\r\n",
        "ann.add(tf.keras.layers.Dense(units=200,activation='relu'))\r\n",
        "ann.add(tf.keras.layers.Dense(units=46,activation='softmax'))"
      ],
      "execution_count": 140,
      "outputs": []
    },
    {
      "cell_type": "code",
      "metadata": {
        "colab": {
          "base_uri": "https://localhost:8080/"
        },
        "id": "c_T-of1OLhiT",
        "outputId": "b3f880b4-fdaa-4c27-a7e6-2f8ee9ce3fa5"
      },
      "source": [
        "ann.compile(loss='categorical_crossentropy', optimizer='adam', metrics=['accuracy'])\r\n",
        "history = ann.fit(X_train, y_train, batch_size=15, epochs=100,validation_data=(X_test, y_test))\r\n",
        "ann.save(\"FC.h5\")"
      ],
      "execution_count": 143,
      "outputs": [
        {
          "output_type": "stream",
          "text": [
            "Epoch 1/100\n",
            "1676/1676 [==============================] - 4s 2ms/step - loss: 1.4020 - accuracy: 0.6426 - val_loss: 0.6650 - val_accuracy: 0.8068\n",
            "Epoch 2/100\n",
            "1676/1676 [==============================] - 3s 2ms/step - loss: 0.6970 - accuracy: 0.7874 - val_loss: 0.6046 - val_accuracy: 0.8211\n",
            "Epoch 3/100\n",
            "1676/1676 [==============================] - 3s 2ms/step - loss: 0.6390 - accuracy: 0.7985 - val_loss: 0.5806 - val_accuracy: 0.8215\n",
            "Epoch 4/100\n",
            "1676/1676 [==============================] - 4s 2ms/step - loss: 0.6061 - accuracy: 0.8114 - val_loss: 0.5998 - val_accuracy: 0.8146\n",
            "Epoch 5/100\n",
            "1676/1676 [==============================] - 4s 2ms/step - loss: 0.5984 - accuracy: 0.8094 - val_loss: 0.5491 - val_accuracy: 0.8323\n",
            "Epoch 6/100\n",
            "1676/1676 [==============================] - 3s 2ms/step - loss: 0.5898 - accuracy: 0.8084 - val_loss: 0.5554 - val_accuracy: 0.8135\n",
            "Epoch 7/100\n",
            "1676/1676 [==============================] - 4s 2ms/step - loss: 0.5813 - accuracy: 0.8123 - val_loss: 0.5354 - val_accuracy: 0.8305\n",
            "Epoch 8/100\n",
            "1676/1676 [==============================] - 3s 2ms/step - loss: 0.5686 - accuracy: 0.8172 - val_loss: 0.5410 - val_accuracy: 0.8339\n",
            "Epoch 9/100\n",
            "1676/1676 [==============================] - 3s 2ms/step - loss: 0.5781 - accuracy: 0.8114 - val_loss: 0.5397 - val_accuracy: 0.8289\n",
            "Epoch 10/100\n",
            "1676/1676 [==============================] - 3s 2ms/step - loss: 0.5637 - accuracy: 0.8167 - val_loss: 0.5609 - val_accuracy: 0.8273\n",
            "Epoch 11/100\n",
            "1676/1676 [==============================] - 4s 2ms/step - loss: 0.5731 - accuracy: 0.8109 - val_loss: 0.5328 - val_accuracy: 0.8320\n",
            "Epoch 12/100\n",
            "1676/1676 [==============================] - 3s 2ms/step - loss: 0.5601 - accuracy: 0.8177 - val_loss: 0.5292 - val_accuracy: 0.8320\n",
            "Epoch 13/100\n",
            "1676/1676 [==============================] - 3s 2ms/step - loss: 0.5719 - accuracy: 0.8123 - val_loss: 0.5300 - val_accuracy: 0.8297\n",
            "Epoch 14/100\n",
            "1676/1676 [==============================] - 4s 2ms/step - loss: 0.5703 - accuracy: 0.8128 - val_loss: 0.5333 - val_accuracy: 0.8325\n",
            "Epoch 15/100\n",
            "1676/1676 [==============================] - 4s 2ms/step - loss: 0.5631 - accuracy: 0.8164 - val_loss: 0.5275 - val_accuracy: 0.8309\n",
            "Epoch 16/100\n",
            "1676/1676 [==============================] - 4s 2ms/step - loss: 0.5575 - accuracy: 0.8183 - val_loss: 0.5259 - val_accuracy: 0.8348\n",
            "Epoch 17/100\n",
            "1676/1676 [==============================] - 4s 2ms/step - loss: 0.5538 - accuracy: 0.8196 - val_loss: 0.5287 - val_accuracy: 0.8319\n",
            "Epoch 18/100\n",
            "1676/1676 [==============================] - 4s 2ms/step - loss: 0.5633 - accuracy: 0.8151 - val_loss: 0.5663 - val_accuracy: 0.8308\n",
            "Epoch 19/100\n",
            "1676/1676 [==============================] - 4s 2ms/step - loss: 0.5540 - accuracy: 0.8196 - val_loss: 0.5261 - val_accuracy: 0.8370\n",
            "Epoch 20/100\n",
            "1676/1676 [==============================] - 3s 2ms/step - loss: 0.5466 - accuracy: 0.8215 - val_loss: 0.5287 - val_accuracy: 0.8370\n",
            "Epoch 21/100\n",
            "1676/1676 [==============================] - 4s 2ms/step - loss: 0.5738 - accuracy: 0.8147 - val_loss: 0.5203 - val_accuracy: 0.8341\n",
            "Epoch 22/100\n",
            "1676/1676 [==============================] - 3s 2ms/step - loss: 0.5586 - accuracy: 0.8165 - val_loss: 0.5381 - val_accuracy: 0.8322\n",
            "Epoch 23/100\n",
            "1676/1676 [==============================] - 3s 2ms/step - loss: 0.5564 - accuracy: 0.8178 - val_loss: 0.5203 - val_accuracy: 0.8362\n",
            "Epoch 24/100\n",
            "1676/1676 [==============================] - 4s 2ms/step - loss: 0.5414 - accuracy: 0.8246 - val_loss: 0.5185 - val_accuracy: 0.8342\n",
            "Epoch 25/100\n",
            "1676/1676 [==============================] - 4s 2ms/step - loss: 0.5484 - accuracy: 0.8222 - val_loss: 0.5209 - val_accuracy: 0.8351\n",
            "Epoch 26/100\n",
            "1676/1676 [==============================] - 3s 2ms/step - loss: 0.5535 - accuracy: 0.8168 - val_loss: 0.5204 - val_accuracy: 0.8366\n",
            "Epoch 27/100\n",
            "1676/1676 [==============================] - 4s 2ms/step - loss: 0.5434 - accuracy: 0.8215 - val_loss: 0.5204 - val_accuracy: 0.8362\n",
            "Epoch 28/100\n",
            "1676/1676 [==============================] - 4s 2ms/step - loss: 0.5564 - accuracy: 0.8188 - val_loss: 0.5218 - val_accuracy: 0.8317\n",
            "Epoch 29/100\n",
            "1676/1676 [==============================] - 4s 2ms/step - loss: 0.5420 - accuracy: 0.8230 - val_loss: 0.5221 - val_accuracy: 0.8323\n",
            "Epoch 30/100\n",
            "1676/1676 [==============================] - 4s 2ms/step - loss: 0.5492 - accuracy: 0.8172 - val_loss: 0.5348 - val_accuracy: 0.8290\n",
            "Epoch 31/100\n",
            "1676/1676 [==============================] - 4s 2ms/step - loss: 0.5489 - accuracy: 0.8201 - val_loss: 0.5231 - val_accuracy: 0.8353\n",
            "Epoch 32/100\n",
            "1676/1676 [==============================] - 4s 2ms/step - loss: 0.5570 - accuracy: 0.8154 - val_loss: 0.5153 - val_accuracy: 0.8375\n",
            "Epoch 33/100\n",
            "1676/1676 [==============================] - 4s 2ms/step - loss: 0.5503 - accuracy: 0.8186 - val_loss: 0.5208 - val_accuracy: 0.8359\n",
            "Epoch 34/100\n",
            "1676/1676 [==============================] - 4s 2ms/step - loss: 0.5460 - accuracy: 0.8183 - val_loss: 0.5199 - val_accuracy: 0.8363\n",
            "Epoch 35/100\n",
            "1676/1676 [==============================] - 4s 2ms/step - loss: 0.5463 - accuracy: 0.8218 - val_loss: 0.5239 - val_accuracy: 0.8372\n",
            "Epoch 36/100\n",
            "1676/1676 [==============================] - 4s 2ms/step - loss: 0.5500 - accuracy: 0.8185 - val_loss: 0.5207 - val_accuracy: 0.8358\n",
            "Epoch 37/100\n",
            "1676/1676 [==============================] - 3s 2ms/step - loss: 0.5484 - accuracy: 0.8207 - val_loss: 0.5183 - val_accuracy: 0.8356\n",
            "Epoch 38/100\n",
            "1676/1676 [==============================] - 4s 2ms/step - loss: 0.5545 - accuracy: 0.8148 - val_loss: 0.5172 - val_accuracy: 0.8363\n",
            "Epoch 39/100\n",
            "1676/1676 [==============================] - 4s 2ms/step - loss: 0.5502 - accuracy: 0.8194 - val_loss: 0.5252 - val_accuracy: 0.8351\n",
            "Epoch 40/100\n",
            "1676/1676 [==============================] - 4s 2ms/step - loss: 0.5399 - accuracy: 0.8243 - val_loss: 0.5168 - val_accuracy: 0.8375\n",
            "Epoch 41/100\n",
            "1676/1676 [==============================] - 4s 2ms/step - loss: 0.5431 - accuracy: 0.8193 - val_loss: 0.5230 - val_accuracy: 0.8345\n",
            "Epoch 42/100\n",
            "1676/1676 [==============================] - 4s 2ms/step - loss: 0.5384 - accuracy: 0.8224 - val_loss: 0.5178 - val_accuracy: 0.8301\n",
            "Epoch 43/100\n",
            "1676/1676 [==============================] - 3s 2ms/step - loss: 0.5506 - accuracy: 0.8160 - val_loss: 0.5207 - val_accuracy: 0.8364\n",
            "Epoch 44/100\n",
            "1676/1676 [==============================] - 4s 2ms/step - loss: 0.5537 - accuracy: 0.8182 - val_loss: 0.5153 - val_accuracy: 0.8345\n",
            "Epoch 45/100\n",
            "1676/1676 [==============================] - 4s 2ms/step - loss: 0.5458 - accuracy: 0.8209 - val_loss: 0.5205 - val_accuracy: 0.8363\n",
            "Epoch 46/100\n",
            "1676/1676 [==============================] - 4s 2ms/step - loss: 0.5429 - accuracy: 0.8213 - val_loss: 0.5251 - val_accuracy: 0.8303\n",
            "Epoch 47/100\n",
            "1676/1676 [==============================] - 4s 2ms/step - loss: 0.5429 - accuracy: 0.8218 - val_loss: 0.5349 - val_accuracy: 0.8271\n",
            "Epoch 48/100\n",
            "1676/1676 [==============================] - 4s 2ms/step - loss: 0.5467 - accuracy: 0.8225 - val_loss: 0.5191 - val_accuracy: 0.8326\n",
            "Epoch 49/100\n",
            "1676/1676 [==============================] - 4s 2ms/step - loss: 0.5559 - accuracy: 0.8163 - val_loss: 0.5174 - val_accuracy: 0.8348\n",
            "Epoch 50/100\n",
            "1676/1676 [==============================] - 4s 2ms/step - loss: 0.5530 - accuracy: 0.8183 - val_loss: 0.5150 - val_accuracy: 0.8359\n",
            "Epoch 51/100\n",
            "1676/1676 [==============================] - 4s 2ms/step - loss: 0.5408 - accuracy: 0.8186 - val_loss: 0.5178 - val_accuracy: 0.8382\n",
            "Epoch 52/100\n",
            "1676/1676 [==============================] - 4s 2ms/step - loss: 0.5503 - accuracy: 0.8167 - val_loss: 0.5243 - val_accuracy: 0.8328\n",
            "Epoch 53/100\n",
            "1676/1676 [==============================] - 4s 2ms/step - loss: 0.5423 - accuracy: 0.8228 - val_loss: 0.5160 - val_accuracy: 0.8377\n",
            "Epoch 54/100\n",
            "1676/1676 [==============================] - 3s 2ms/step - loss: 0.5426 - accuracy: 0.8210 - val_loss: 0.5161 - val_accuracy: 0.8377\n",
            "Epoch 55/100\n",
            "1676/1676 [==============================] - 4s 2ms/step - loss: 0.5498 - accuracy: 0.8183 - val_loss: 0.5180 - val_accuracy: 0.8374\n",
            "Epoch 56/100\n",
            "1676/1676 [==============================] - 4s 2ms/step - loss: 0.5455 - accuracy: 0.8196 - val_loss: 0.5320 - val_accuracy: 0.8305\n",
            "Epoch 57/100\n",
            "1676/1676 [==============================] - 4s 2ms/step - loss: 0.5464 - accuracy: 0.8208 - val_loss: 0.5242 - val_accuracy: 0.8352\n",
            "Epoch 58/100\n",
            "1676/1676 [==============================] - 4s 2ms/step - loss: 0.5437 - accuracy: 0.8215 - val_loss: 0.5176 - val_accuracy: 0.8331\n",
            "Epoch 59/100\n",
            "1676/1676 [==============================] - 4s 2ms/step - loss: 0.5410 - accuracy: 0.8226 - val_loss: 0.5137 - val_accuracy: 0.8382\n",
            "Epoch 60/100\n",
            "1676/1676 [==============================] - 3s 2ms/step - loss: 0.5385 - accuracy: 0.8206 - val_loss: 0.5159 - val_accuracy: 0.8333\n",
            "Epoch 61/100\n",
            "1676/1676 [==============================] - 3s 2ms/step - loss: 0.5347 - accuracy: 0.8209 - val_loss: 0.5181 - val_accuracy: 0.8365\n",
            "Epoch 62/100\n",
            "1676/1676 [==============================] - 3s 2ms/step - loss: 0.5532 - accuracy: 0.8167 - val_loss: 0.5163 - val_accuracy: 0.8374\n",
            "Epoch 63/100\n",
            "1676/1676 [==============================] - 3s 2ms/step - loss: 0.5509 - accuracy: 0.8212 - val_loss: 0.5184 - val_accuracy: 0.8377\n",
            "Epoch 64/100\n",
            "1676/1676 [==============================] - 4s 2ms/step - loss: 0.5342 - accuracy: 0.8255 - val_loss: 0.5145 - val_accuracy: 0.8362\n",
            "Epoch 65/100\n",
            "1676/1676 [==============================] - 3s 2ms/step - loss: 0.5403 - accuracy: 0.8231 - val_loss: 0.5148 - val_accuracy: 0.8365\n",
            "Epoch 66/100\n",
            "1676/1676 [==============================] - 4s 2ms/step - loss: 0.5347 - accuracy: 0.8238 - val_loss: 0.5252 - val_accuracy: 0.8344\n",
            "Epoch 67/100\n",
            "1676/1676 [==============================] - 3s 2ms/step - loss: 0.5506 - accuracy: 0.8228 - val_loss: 0.5214 - val_accuracy: 0.8374\n",
            "Epoch 68/100\n",
            "1676/1676 [==============================] - 4s 2ms/step - loss: 0.5476 - accuracy: 0.8187 - val_loss: 0.5171 - val_accuracy: 0.8356\n",
            "Epoch 69/100\n",
            "1676/1676 [==============================] - 4s 2ms/step - loss: 0.5374 - accuracy: 0.8229 - val_loss: 0.5157 - val_accuracy: 0.8363\n",
            "Epoch 70/100\n",
            "1676/1676 [==============================] - 4s 2ms/step - loss: 0.5455 - accuracy: 0.8204 - val_loss: 0.5213 - val_accuracy: 0.8359\n",
            "Epoch 71/100\n",
            "1676/1676 [==============================] - 4s 2ms/step - loss: 0.5423 - accuracy: 0.8234 - val_loss: 0.5151 - val_accuracy: 0.8383\n",
            "Epoch 72/100\n",
            "1676/1676 [==============================] - 4s 2ms/step - loss: 0.5435 - accuracy: 0.8202 - val_loss: 0.5187 - val_accuracy: 0.8376\n",
            "Epoch 73/100\n",
            "1676/1676 [==============================] - 4s 2ms/step - loss: 0.5516 - accuracy: 0.8164 - val_loss: 0.5192 - val_accuracy: 0.8344\n",
            "Epoch 74/100\n",
            "1676/1676 [==============================] - 4s 2ms/step - loss: 0.5523 - accuracy: 0.8177 - val_loss: 0.5173 - val_accuracy: 0.8364\n",
            "Epoch 75/100\n",
            "1676/1676 [==============================] - 4s 2ms/step - loss: 0.5360 - accuracy: 0.8212 - val_loss: 0.5137 - val_accuracy: 0.8363\n",
            "Epoch 76/100\n",
            "1676/1676 [==============================] - 4s 2ms/step - loss: 0.5338 - accuracy: 0.8208 - val_loss: 0.5162 - val_accuracy: 0.8362\n",
            "Epoch 77/100\n",
            "1676/1676 [==============================] - 4s 2ms/step - loss: 0.5392 - accuracy: 0.8200 - val_loss: 0.5285 - val_accuracy: 0.8311\n",
            "Epoch 78/100\n",
            "1676/1676 [==============================] - 4s 2ms/step - loss: 0.5514 - accuracy: 0.8192 - val_loss: 0.5159 - val_accuracy: 0.8382\n",
            "Epoch 79/100\n",
            "1676/1676 [==============================] - 4s 2ms/step - loss: 0.5362 - accuracy: 0.8240 - val_loss: 0.5504 - val_accuracy: 0.8265\n",
            "Epoch 80/100\n",
            "1676/1676 [==============================] - 4s 2ms/step - loss: 0.5479 - accuracy: 0.8190 - val_loss: 0.5213 - val_accuracy: 0.8362\n",
            "Epoch 81/100\n",
            "1676/1676 [==============================] - 4s 2ms/step - loss: 0.5486 - accuracy: 0.8176 - val_loss: 0.5165 - val_accuracy: 0.8369\n",
            "Epoch 82/100\n",
            "1676/1676 [==============================] - 4s 2ms/step - loss: 0.5399 - accuracy: 0.8232 - val_loss: 0.5139 - val_accuracy: 0.8363\n",
            "Epoch 83/100\n",
            "1676/1676 [==============================] - 4s 2ms/step - loss: 0.5488 - accuracy: 0.8208 - val_loss: 0.5146 - val_accuracy: 0.8358\n",
            "Epoch 84/100\n",
            "1676/1676 [==============================] - 4s 2ms/step - loss: 0.5332 - accuracy: 0.8222 - val_loss: 0.5177 - val_accuracy: 0.8374\n",
            "Epoch 85/100\n",
            "1676/1676 [==============================] - 4s 2ms/step - loss: 0.5342 - accuracy: 0.8251 - val_loss: 0.5201 - val_accuracy: 0.8362\n",
            "Epoch 86/100\n",
            "1676/1676 [==============================] - 4s 2ms/step - loss: 0.5379 - accuracy: 0.8212 - val_loss: 0.5184 - val_accuracy: 0.8358\n",
            "Epoch 87/100\n",
            "1676/1676 [==============================] - 4s 2ms/step - loss: 0.5445 - accuracy: 0.8207 - val_loss: 0.5158 - val_accuracy: 0.8388\n",
            "Epoch 88/100\n",
            "1676/1676 [==============================] - 4s 2ms/step - loss: 0.5355 - accuracy: 0.8228 - val_loss: 0.5168 - val_accuracy: 0.8365\n",
            "Epoch 89/100\n",
            "1676/1676 [==============================] - 4s 2ms/step - loss: 0.5504 - accuracy: 0.8209 - val_loss: 0.5162 - val_accuracy: 0.8363\n",
            "Epoch 90/100\n",
            "1676/1676 [==============================] - 4s 2ms/step - loss: 0.5445 - accuracy: 0.8211 - val_loss: 0.5177 - val_accuracy: 0.8362\n",
            "Epoch 91/100\n",
            "1676/1676 [==============================] - 4s 2ms/step - loss: 0.5492 - accuracy: 0.8196 - val_loss: 0.5304 - val_accuracy: 0.8297\n",
            "Epoch 92/100\n",
            "1676/1676 [==============================] - 4s 2ms/step - loss: 0.5500 - accuracy: 0.8202 - val_loss: 0.5212 - val_accuracy: 0.8323\n",
            "Epoch 93/100\n",
            "1676/1676 [==============================] - 4s 2ms/step - loss: 0.5520 - accuracy: 0.8186 - val_loss: 0.5151 - val_accuracy: 0.8360\n",
            "Epoch 94/100\n",
            "1676/1676 [==============================] - 4s 2ms/step - loss: 0.5487 - accuracy: 0.8180 - val_loss: 0.5170 - val_accuracy: 0.8350\n",
            "Epoch 95/100\n",
            "1676/1676 [==============================] - 4s 2ms/step - loss: 0.5434 - accuracy: 0.8156 - val_loss: 0.5175 - val_accuracy: 0.8356\n",
            "Epoch 96/100\n",
            "1676/1676 [==============================] - 4s 2ms/step - loss: 0.5510 - accuracy: 0.8167 - val_loss: 0.5166 - val_accuracy: 0.8362\n",
            "Epoch 97/100\n",
            "1676/1676 [==============================] - 4s 2ms/step - loss: 0.5352 - accuracy: 0.8235 - val_loss: 0.5153 - val_accuracy: 0.8341\n",
            "Epoch 98/100\n",
            "1676/1676 [==============================] - 4s 2ms/step - loss: 0.5537 - accuracy: 0.8165 - val_loss: 0.5153 - val_accuracy: 0.8370\n",
            "Epoch 99/100\n",
            "1676/1676 [==============================] - 4s 2ms/step - loss: 0.5496 - accuracy: 0.8197 - val_loss: 0.5139 - val_accuracy: 0.8363\n",
            "Epoch 100/100\n",
            "1676/1676 [==============================] - 4s 2ms/step - loss: 0.5538 - accuracy: 0.8172 - val_loss: 0.5149 - val_accuracy: 0.8359\n"
          ],
          "name": "stdout"
        }
      ]
    },
    {
      "cell_type": "code",
      "metadata": {
        "id": "UlVo6GL-OrCG"
      },
      "source": [
        "ann1 = tf.keras.models.Sequential()\r\n",
        "ann1.add(tf.keras.layers.Dense(units=50,activation='relu'))\r\n",
        "ann1.add(tf.keras.layers.Dense(units=100,activation='relu'))\r\n",
        "ann1.add(tf.keras.layers.Dense(units=150,activation='relu'))\r\n",
        "ann1.add(tf.keras.layers.Dense(units=200,activation='relu'))\r\n",
        "ann1.add(tf.keras.layers.Dense(units=50,activation='softmax'))"
      ],
      "execution_count": 144,
      "outputs": []
    },
    {
      "cell_type": "code",
      "metadata": {
        "colab": {
          "base_uri": "https://localhost:8080/"
        },
        "id": "JeLx4gPrOzl0",
        "outputId": "023db22c-b5ea-45f6-b0ec-f06b900e05cd"
      },
      "source": [
        "ann1.compile(loss='categorical_crossentropy', optimizer='adam', metrics=['accuracy'])\r\n",
        "history1 = ann1.fit(X_train1, z_train, batch_size=15, epochs=100,validation_data=(X_test1, z_test))\r\n",
        "ann1.save(\"FC1.h5\")"
      ],
      "execution_count": 145,
      "outputs": [
        {
          "output_type": "stream",
          "text": [
            "Epoch 1/100\n",
            "1676/1676 [==============================] - 4s 2ms/step - loss: 1.8363 - accuracy: 0.3985 - val_loss: 1.1481 - val_accuracy: 0.5457\n",
            "Epoch 2/100\n",
            "1676/1676 [==============================] - 3s 2ms/step - loss: 1.1573 - accuracy: 0.5231 - val_loss: 1.1426 - val_accuracy: 0.5320\n",
            "Epoch 3/100\n",
            "1676/1676 [==============================] - 4s 2ms/step - loss: 1.0764 - accuracy: 0.5375 - val_loss: 1.0302 - val_accuracy: 0.5447\n",
            "Epoch 4/100\n",
            "1676/1676 [==============================] - 4s 2ms/step - loss: 1.0551 - accuracy: 0.5462 - val_loss: 1.0151 - val_accuracy: 0.5741\n",
            "Epoch 5/100\n",
            "1676/1676 [==============================] - 4s 2ms/step - loss: 1.0395 - accuracy: 0.5538 - val_loss: 0.9978 - val_accuracy: 0.5714\n",
            "Epoch 6/100\n",
            "1676/1676 [==============================] - 3s 2ms/step - loss: 1.0184 - accuracy: 0.5577 - val_loss: 0.9992 - val_accuracy: 0.5681\n",
            "Epoch 7/100\n",
            "1676/1676 [==============================] - 4s 2ms/step - loss: 1.0081 - accuracy: 0.5685 - val_loss: 1.0038 - val_accuracy: 0.5724\n",
            "Epoch 8/100\n",
            "1676/1676 [==============================] - 4s 2ms/step - loss: 1.0155 - accuracy: 0.5567 - val_loss: 0.9927 - val_accuracy: 0.5788\n",
            "Epoch 9/100\n",
            "1676/1676 [==============================] - 3s 2ms/step - loss: 1.0084 - accuracy: 0.5609 - val_loss: 1.0079 - val_accuracy: 0.5674\n",
            "Epoch 10/100\n",
            "1676/1676 [==============================] - 3s 2ms/step - loss: 1.0167 - accuracy: 0.5539 - val_loss: 0.9809 - val_accuracy: 0.5721\n",
            "Epoch 11/100\n",
            "1676/1676 [==============================] - 4s 2ms/step - loss: 1.0035 - accuracy: 0.5609 - val_loss: 0.9867 - val_accuracy: 0.5690\n",
            "Epoch 12/100\n",
            "1676/1676 [==============================] - 3s 2ms/step - loss: 1.0117 - accuracy: 0.5599 - val_loss: 0.9962 - val_accuracy: 0.5735\n",
            "Epoch 13/100\n",
            "1676/1676 [==============================] - 4s 2ms/step - loss: 1.0019 - accuracy: 0.5627 - val_loss: 0.9816 - val_accuracy: 0.5764\n",
            "Epoch 14/100\n",
            "1676/1676 [==============================] - 4s 2ms/step - loss: 0.9952 - accuracy: 0.5647 - val_loss: 1.0079 - val_accuracy: 0.5595\n",
            "Epoch 15/100\n",
            "1676/1676 [==============================] - 3s 2ms/step - loss: 1.0050 - accuracy: 0.5654 - val_loss: 0.9793 - val_accuracy: 0.5751\n",
            "Epoch 16/100\n",
            "1676/1676 [==============================] - 4s 2ms/step - loss: 0.9985 - accuracy: 0.5654 - val_loss: 0.9802 - val_accuracy: 0.5705\n",
            "Epoch 17/100\n",
            "1676/1676 [==============================] - 4s 2ms/step - loss: 1.0101 - accuracy: 0.5593 - val_loss: 0.9772 - val_accuracy: 0.5776\n",
            "Epoch 18/100\n",
            "1676/1676 [==============================] - 3s 2ms/step - loss: 1.0036 - accuracy: 0.5591 - val_loss: 0.9887 - val_accuracy: 0.5741\n",
            "Epoch 19/100\n",
            "1676/1676 [==============================] - 3s 2ms/step - loss: 0.9956 - accuracy: 0.5609 - val_loss: 0.9777 - val_accuracy: 0.5757\n",
            "Epoch 20/100\n",
            "1676/1676 [==============================] - 4s 2ms/step - loss: 0.9980 - accuracy: 0.5617 - val_loss: 0.9795 - val_accuracy: 0.5778\n",
            "Epoch 21/100\n",
            "1676/1676 [==============================] - 3s 2ms/step - loss: 0.9859 - accuracy: 0.5642 - val_loss: 0.9827 - val_accuracy: 0.5747\n",
            "Epoch 22/100\n",
            "1676/1676 [==============================] - 4s 2ms/step - loss: 0.9883 - accuracy: 0.5597 - val_loss: 0.9795 - val_accuracy: 0.5743\n",
            "Epoch 23/100\n",
            "1676/1676 [==============================] - 4s 2ms/step - loss: 0.9916 - accuracy: 0.5655 - val_loss: 0.9891 - val_accuracy: 0.5659\n",
            "Epoch 24/100\n",
            "1676/1676 [==============================] - 3s 2ms/step - loss: 0.9948 - accuracy: 0.5633 - val_loss: 0.9750 - val_accuracy: 0.5743\n",
            "Epoch 25/100\n",
            "1676/1676 [==============================] - 4s 2ms/step - loss: 0.9903 - accuracy: 0.5653 - val_loss: 0.9713 - val_accuracy: 0.5807\n",
            "Epoch 26/100\n",
            "1676/1676 [==============================] - 3s 2ms/step - loss: 0.9976 - accuracy: 0.5612 - val_loss: 0.9860 - val_accuracy: 0.5736\n",
            "Epoch 27/100\n",
            "1676/1676 [==============================] - 3s 2ms/step - loss: 0.9895 - accuracy: 0.5645 - val_loss: 0.9770 - val_accuracy: 0.5722\n",
            "Epoch 28/100\n",
            "1676/1676 [==============================] - 4s 2ms/step - loss: 0.9899 - accuracy: 0.5672 - val_loss: 0.9805 - val_accuracy: 0.5736\n",
            "Epoch 29/100\n",
            "1676/1676 [==============================] - 4s 2ms/step - loss: 0.9829 - accuracy: 0.5667 - val_loss: 0.9832 - val_accuracy: 0.5679\n",
            "Epoch 30/100\n",
            "1676/1676 [==============================] - 4s 2ms/step - loss: 1.0063 - accuracy: 0.5566 - val_loss: 0.9740 - val_accuracy: 0.5743\n",
            "Epoch 31/100\n",
            "1676/1676 [==============================] - 3s 2ms/step - loss: 0.9857 - accuracy: 0.5687 - val_loss: 0.9746 - val_accuracy: 0.5763\n",
            "Epoch 32/100\n",
            "1676/1676 [==============================] - 3s 2ms/step - loss: 0.9891 - accuracy: 0.5655 - val_loss: 0.9720 - val_accuracy: 0.5772\n",
            "Epoch 33/100\n",
            "1676/1676 [==============================] - 4s 2ms/step - loss: 0.9882 - accuracy: 0.5646 - val_loss: 0.9710 - val_accuracy: 0.5745\n",
            "Epoch 34/100\n",
            "1676/1676 [==============================] - 4s 2ms/step - loss: 0.9879 - accuracy: 0.5617 - val_loss: 0.9706 - val_accuracy: 0.5679\n",
            "Epoch 35/100\n",
            "1676/1676 [==============================] - 3s 2ms/step - loss: 0.9864 - accuracy: 0.5649 - val_loss: 0.9709 - val_accuracy: 0.5720\n",
            "Epoch 36/100\n",
            "1676/1676 [==============================] - 4s 2ms/step - loss: 0.9886 - accuracy: 0.5661 - val_loss: 0.9750 - val_accuracy: 0.5772\n",
            "Epoch 37/100\n",
            "1676/1676 [==============================] - 3s 2ms/step - loss: 0.9894 - accuracy: 0.5591 - val_loss: 0.9726 - val_accuracy: 0.5771\n",
            "Epoch 38/100\n",
            "1676/1676 [==============================] - 4s 2ms/step - loss: 0.9848 - accuracy: 0.5638 - val_loss: 0.9732 - val_accuracy: 0.5742\n",
            "Epoch 39/100\n",
            "1676/1676 [==============================] - 4s 2ms/step - loss: 0.9841 - accuracy: 0.5714 - val_loss: 0.9714 - val_accuracy: 0.5733\n",
            "Epoch 40/100\n",
            "1676/1676 [==============================] - 3s 2ms/step - loss: 0.9871 - accuracy: 0.5680 - val_loss: 0.9701 - val_accuracy: 0.5736\n",
            "Epoch 41/100\n",
            "1676/1676 [==============================] - 4s 2ms/step - loss: 0.9863 - accuracy: 0.5677 - val_loss: 0.9736 - val_accuracy: 0.5765\n",
            "Epoch 42/100\n",
            "1676/1676 [==============================] - 4s 2ms/step - loss: 0.9862 - accuracy: 0.5633 - val_loss: 0.9726 - val_accuracy: 0.5786\n",
            "Epoch 43/100\n",
            "1676/1676 [==============================] - 3s 2ms/step - loss: 0.9796 - accuracy: 0.5695 - val_loss: 0.9712 - val_accuracy: 0.5814\n",
            "Epoch 44/100\n",
            "1676/1676 [==============================] - 3s 2ms/step - loss: 0.9897 - accuracy: 0.5662 - val_loss: 1.0806 - val_accuracy: 0.5716\n",
            "Epoch 45/100\n",
            "1676/1676 [==============================] - 4s 2ms/step - loss: 0.9890 - accuracy: 0.5644 - val_loss: 0.9711 - val_accuracy: 0.5796\n",
            "Epoch 46/100\n",
            "1676/1676 [==============================] - 3s 2ms/step - loss: 0.9771 - accuracy: 0.5672 - val_loss: 0.9741 - val_accuracy: 0.5714\n",
            "Epoch 47/100\n",
            "1676/1676 [==============================] - 3s 2ms/step - loss: 0.9863 - accuracy: 0.5628 - val_loss: 0.9749 - val_accuracy: 0.5734\n",
            "Epoch 48/100\n",
            "1676/1676 [==============================] - 4s 2ms/step - loss: 0.9911 - accuracy: 0.5675 - val_loss: 0.9721 - val_accuracy: 0.5811\n",
            "Epoch 49/100\n",
            "1676/1676 [==============================] - 4s 2ms/step - loss: 0.9863 - accuracy: 0.5607 - val_loss: 0.9700 - val_accuracy: 0.5774\n",
            "Epoch 50/100\n",
            "1676/1676 [==============================] - 4s 2ms/step - loss: 0.9870 - accuracy: 0.5660 - val_loss: 0.9706 - val_accuracy: 0.5786\n",
            "Epoch 51/100\n",
            "1676/1676 [==============================] - 4s 2ms/step - loss: 0.9866 - accuracy: 0.5628 - val_loss: 0.9769 - val_accuracy: 0.5718\n",
            "Epoch 52/100\n",
            "1676/1676 [==============================] - 4s 2ms/step - loss: 1.0072 - accuracy: 0.5531 - val_loss: 0.9745 - val_accuracy: 0.5702\n",
            "Epoch 53/100\n",
            "1676/1676 [==============================] - 4s 2ms/step - loss: 0.9844 - accuracy: 0.5622 - val_loss: 1.0408 - val_accuracy: 0.5693\n",
            "Epoch 54/100\n",
            "1676/1676 [==============================] - 4s 2ms/step - loss: 0.9838 - accuracy: 0.5636 - val_loss: 0.9700 - val_accuracy: 0.5746\n",
            "Epoch 55/100\n",
            "1676/1676 [==============================] - 4s 2ms/step - loss: 1.0029 - accuracy: 0.5625 - val_loss: 0.9702 - val_accuracy: 0.5796\n",
            "Epoch 56/100\n",
            "1676/1676 [==============================] - 4s 2ms/step - loss: 0.9883 - accuracy: 0.5641 - val_loss: 0.9735 - val_accuracy: 0.5734\n",
            "Epoch 57/100\n",
            "1676/1676 [==============================] - 3s 2ms/step - loss: 0.9861 - accuracy: 0.5668 - val_loss: 0.9714 - val_accuracy: 0.5776\n",
            "Epoch 58/100\n",
            "1676/1676 [==============================] - 4s 2ms/step - loss: 0.9762 - accuracy: 0.5680 - val_loss: 0.9721 - val_accuracy: 0.5808\n",
            "Epoch 59/100\n",
            "1676/1676 [==============================] - 4s 2ms/step - loss: 0.9787 - accuracy: 0.5706 - val_loss: 0.9736 - val_accuracy: 0.5746\n",
            "Epoch 60/100\n",
            "1676/1676 [==============================] - 4s 2ms/step - loss: 0.9893 - accuracy: 0.5674 - val_loss: 0.9698 - val_accuracy: 0.5777\n",
            "Epoch 61/100\n",
            "1676/1676 [==============================] - 4s 2ms/step - loss: 0.9824 - accuracy: 0.5655 - val_loss: 0.9703 - val_accuracy: 0.5741\n",
            "Epoch 62/100\n",
            "1676/1676 [==============================] - 4s 2ms/step - loss: 0.9832 - accuracy: 0.5637 - val_loss: 0.9763 - val_accuracy: 0.5766\n",
            "Epoch 63/100\n",
            "1676/1676 [==============================] - 4s 2ms/step - loss: 0.9902 - accuracy: 0.5633 - val_loss: 0.9709 - val_accuracy: 0.5739\n",
            "Epoch 64/100\n",
            "1676/1676 [==============================] - 4s 2ms/step - loss: 0.9879 - accuracy: 0.5634 - val_loss: 0.9702 - val_accuracy: 0.5780\n",
            "Epoch 65/100\n",
            "1676/1676 [==============================] - 4s 2ms/step - loss: 0.9767 - accuracy: 0.5687 - val_loss: 0.9680 - val_accuracy: 0.5815\n",
            "Epoch 66/100\n",
            "1676/1676 [==============================] - 4s 2ms/step - loss: 0.9838 - accuracy: 0.5642 - val_loss: 0.9713 - val_accuracy: 0.5747\n",
            "Epoch 67/100\n",
            "1676/1676 [==============================] - 4s 2ms/step - loss: 0.9858 - accuracy: 0.5685 - val_loss: 0.9690 - val_accuracy: 0.5777\n",
            "Epoch 68/100\n",
            "1676/1676 [==============================] - 4s 2ms/step - loss: 0.9844 - accuracy: 0.5641 - val_loss: 0.9698 - val_accuracy: 0.5780\n",
            "Epoch 69/100\n",
            "1676/1676 [==============================] - 4s 2ms/step - loss: 0.9952 - accuracy: 0.5592 - val_loss: 0.9717 - val_accuracy: 0.5754\n",
            "Epoch 70/100\n",
            "1676/1676 [==============================] - 4s 2ms/step - loss: 0.9789 - accuracy: 0.5644 - val_loss: 0.9724 - val_accuracy: 0.5773\n",
            "Epoch 71/100\n",
            "1676/1676 [==============================] - 4s 2ms/step - loss: 0.9806 - accuracy: 0.5722 - val_loss: 0.9724 - val_accuracy: 0.5741\n",
            "Epoch 72/100\n",
            "1676/1676 [==============================] - 4s 2ms/step - loss: 0.9855 - accuracy: 0.5698 - val_loss: 0.9992 - val_accuracy: 0.5708\n",
            "Epoch 73/100\n",
            "1676/1676 [==============================] - 4s 2ms/step - loss: 1.0028 - accuracy: 0.5622 - val_loss: 0.9717 - val_accuracy: 0.5740\n",
            "Epoch 74/100\n",
            "1676/1676 [==============================] - 4s 2ms/step - loss: 0.9725 - accuracy: 0.5678 - val_loss: 0.9787 - val_accuracy: 0.5717\n",
            "Epoch 75/100\n",
            "1676/1676 [==============================] - 4s 2ms/step - loss: 0.9846 - accuracy: 0.5687 - val_loss: 0.9757 - val_accuracy: 0.5755\n",
            "Epoch 76/100\n",
            "1676/1676 [==============================] - 3s 2ms/step - loss: 0.9918 - accuracy: 0.5579 - val_loss: 0.9706 - val_accuracy: 0.5757\n",
            "Epoch 77/100\n",
            "1676/1676 [==============================] - 4s 2ms/step - loss: 0.9873 - accuracy: 0.5627 - val_loss: 0.9736 - val_accuracy: 0.5773\n",
            "Epoch 78/100\n",
            "1676/1676 [==============================] - 4s 2ms/step - loss: 0.9821 - accuracy: 0.5722 - val_loss: 0.9718 - val_accuracy: 0.5810\n",
            "Epoch 79/100\n",
            "1676/1676 [==============================] - 4s 2ms/step - loss: 0.9805 - accuracy: 0.5623 - val_loss: 0.9690 - val_accuracy: 0.5754\n",
            "Epoch 80/100\n",
            "1676/1676 [==============================] - 4s 2ms/step - loss: 0.9879 - accuracy: 0.5575 - val_loss: 0.9705 - val_accuracy: 0.5774\n",
            "Epoch 81/100\n",
            "1676/1676 [==============================] - 4s 2ms/step - loss: 0.9796 - accuracy: 0.5655 - val_loss: 0.9695 - val_accuracy: 0.5810\n",
            "Epoch 82/100\n",
            "1676/1676 [==============================] - 4s 2ms/step - loss: 0.9837 - accuracy: 0.5704 - val_loss: 0.9716 - val_accuracy: 0.5745\n",
            "Epoch 83/100\n",
            "1676/1676 [==============================] - 4s 2ms/step - loss: 0.9849 - accuracy: 0.5618 - val_loss: 0.9703 - val_accuracy: 0.5736\n",
            "Epoch 84/100\n",
            "1676/1676 [==============================] - 4s 2ms/step - loss: 0.9878 - accuracy: 0.5670 - val_loss: 0.9701 - val_accuracy: 0.5778\n",
            "Epoch 85/100\n",
            "1676/1676 [==============================] - 4s 2ms/step - loss: 0.9772 - accuracy: 0.5680 - val_loss: 0.9742 - val_accuracy: 0.5773\n",
            "Epoch 86/100\n",
            "1676/1676 [==============================] - 4s 2ms/step - loss: 0.9877 - accuracy: 0.5658 - val_loss: 0.9694 - val_accuracy: 0.5741\n",
            "Epoch 87/100\n",
            "1676/1676 [==============================] - 4s 2ms/step - loss: 0.9845 - accuracy: 0.5664 - val_loss: 0.9689 - val_accuracy: 0.5777\n",
            "Epoch 88/100\n",
            "1676/1676 [==============================] - 4s 2ms/step - loss: 0.9967 - accuracy: 0.5629 - val_loss: 0.9715 - val_accuracy: 0.5813\n",
            "Epoch 89/100\n",
            "1676/1676 [==============================] - 4s 2ms/step - loss: 0.9860 - accuracy: 0.5707 - val_loss: 0.9721 - val_accuracy: 0.5748\n",
            "Epoch 90/100\n",
            "1676/1676 [==============================] - 4s 2ms/step - loss: 0.9883 - accuracy: 0.5605 - val_loss: 0.9680 - val_accuracy: 0.5815\n",
            "Epoch 91/100\n",
            "1676/1676 [==============================] - 4s 2ms/step - loss: 0.9753 - accuracy: 0.5642 - val_loss: 0.9687 - val_accuracy: 0.5782\n",
            "Epoch 92/100\n",
            "1676/1676 [==============================] - 4s 2ms/step - loss: 0.9911 - accuracy: 0.5582 - val_loss: 0.9702 - val_accuracy: 0.5782\n",
            "Epoch 93/100\n",
            "1676/1676 [==============================] - 4s 2ms/step - loss: 0.9912 - accuracy: 0.5659 - val_loss: 0.9807 - val_accuracy: 0.5741\n",
            "Epoch 94/100\n",
            "1676/1676 [==============================] - 4s 2ms/step - loss: 0.9798 - accuracy: 0.5708 - val_loss: 0.9686 - val_accuracy: 0.5810\n",
            "Epoch 95/100\n",
            "1676/1676 [==============================] - 4s 2ms/step - loss: 0.9888 - accuracy: 0.5623 - val_loss: 0.9682 - val_accuracy: 0.5782\n",
            "Epoch 96/100\n",
            "1676/1676 [==============================] - 4s 2ms/step - loss: 0.9875 - accuracy: 0.5634 - val_loss: 0.9693 - val_accuracy: 0.5815\n",
            "Epoch 97/100\n",
            "1676/1676 [==============================] - 4s 2ms/step - loss: 0.9888 - accuracy: 0.5652 - val_loss: 0.9720 - val_accuracy: 0.5815\n",
            "Epoch 98/100\n",
            "1676/1676 [==============================] - 4s 2ms/step - loss: 0.9925 - accuracy: 0.5637 - val_loss: 0.9710 - val_accuracy: 0.5765\n",
            "Epoch 99/100\n",
            "1676/1676 [==============================] - 4s 2ms/step - loss: 0.9777 - accuracy: 0.5703 - val_loss: 0.9700 - val_accuracy: 0.5815\n",
            "Epoch 100/100\n",
            "1676/1676 [==============================] - 4s 2ms/step - loss: 0.9865 - accuracy: 0.5671 - val_loss: 0.9700 - val_accuracy: 0.5748\n"
          ],
          "name": "stdout"
        }
      ]
    },
    {
      "cell_type": "code",
      "metadata": {
        "colab": {
          "base_uri": "https://localhost:8080/",
          "height": 1000
        },
        "id": "VGAKFwHFQpCD",
        "outputId": "c48a42e8-0cb5-435d-ee0f-be1c13cc7953"
      },
      "source": [
        "plt.figure(0)\r\n",
        "plt.plot(history.history['accuracy'], label='training accuracy')\r\n",
        "plt.plot(history.history['val_accuracy'], label='val accuracy')\r\n",
        "plt.title('Accuracy')\r\n",
        "plt.xlabel('epochs')\r\n",
        "plt.ylabel('accuracy')\r\n",
        "plt.legend()\r\n",
        "plt.title('Results for ANN training-1')\r\n",
        "plt.savefig('Accuracy.png')\r\n",
        "\r\n",
        "plt.figure(1)\r\n",
        "plt.plot(history.history['loss'], label='training loss')\r\n",
        "plt.plot(history.history['val_loss'], label='val loss')\r\n",
        "plt.title('Loss')\r\n",
        "plt.xlabel('epochs')\r\n",
        "plt.ylabel('loss')\r\n",
        "plt.legend()\r\n",
        "plt.title('Results for ANN training-1')\r\n",
        "plt.savefig('Loss.png')\r\n",
        "\r\n",
        "plt.figure(2)\r\n",
        "plt.plot(history1.history['accuracy'], label='training accuracy')\r\n",
        "plt.plot(history1.history['val_accuracy'], label='val accuracy')\r\n",
        "plt.title('Accuracy')\r\n",
        "plt.xlabel('epochs')\r\n",
        "plt.ylabel('accuracy')\r\n",
        "plt.legend()\r\n",
        "plt.title('Results for ANN training-2')\r\n",
        "plt.savefig('Accuracy.png')\r\n",
        "\r\n",
        "plt.figure(3)\r\n",
        "plt.plot(history1.history['loss'], label='training loss')\r\n",
        "plt.plot(history1.history['val_loss'], label='val loss')\r\n",
        "plt.title('Loss')\r\n",
        "plt.xlabel('epochs')\r\n",
        "plt.ylabel('loss')\r\n",
        "plt.legend()\r\n",
        "plt.title('Results for ANN training-2')\r\n",
        "plt.savefig('Loss.png')\r\n",
        "\r\n",
        "print(\"Saved Model & Graph to disk\")"
      ],
      "execution_count": 146,
      "outputs": [
        {
          "output_type": "stream",
          "text": [
            "Saved Model & Graph to disk\n"
          ],
          "name": "stdout"
        },
        {
          "output_type": "display_data",
          "data": {
            "image/png": "[encoded data removed]",
            "text/plain": [
              "<Figure size 432x288 with 1 Axes>"
            ]
          },
          "metadata": {
            "tags": [],
            "needs_background": "light"
          }
        },
        {
          "output_type": "display_data",
          "data": {
            "image/png": "[encoded data removed]",
            "text/plain": [
              "<Figure size 432x288 with 1 Axes>"
            ]
          },
          "metadata": {
            "tags": [],
            "needs_background": "light"
          }
        },
        {
          "output_type": "display_data",
          "data": {
            "image/png": "[encoded data removed]",
            "text/plain": [
              "<Figure size 432x288 with 1 Axes>"
            ]
          },
          "metadata": {
            "tags": [],
            "needs_background": "light"
          }
        },
        {
          "output_type": "display_data",
          "data": {
            "image/png": "[encoded data removed]",
            "text/plain": [
              "<Figure size 432x288 with 1 Axes>"
            ]
          },
          "metadata": {
            "tags": [],
            "needs_background": "light"
          }
        }
      ]
    },
    {
      "cell_type": "code",
      "metadata": {
        "colab": {
          "base_uri": "https://localhost:8080/"
        },
        "id": "E3uglrPkSEJ0",
        "outputId": "e3d8bf5d-84b5-4b99-ee34-a8f14862c73f"
      },
      "source": [
        "model = tf.keras.models.load_model('FC.h5')\r\n",
        "model1= tf.keras.models.load_model('FC1.h5')\r\n",
        "print(\"Loaded model from disk\")"
      ],
      "execution_count": 147,
      "outputs": [
        {
          "output_type": "stream",
          "text": [
            "Loaded model from disk\n"
          ],
          "name": "stdout"
        }
      ]
    },
    {
      "cell_type": "code",
      "metadata": {
        "colab": {
          "base_uri": "https://localhost:8080/"
        },
        "id": "RPFSMoUuTS6y",
        "outputId": "74986b63-82cf-46cd-a6b0-aba552afddce"
      },
      "source": [
        "z_pred=model1.predict(X_test)\r\n",
        "z_pred=np.round(z_pred)\r\n",
        "np.set_printoptions(precision=2)\r\n",
        "print(z_pred)"
      ],
      "execution_count": 150,
      "outputs": [
        {
          "output_type": "stream",
          "text": [
            "[[0. 0. 0. ... 0. 0. 0.]\n",
            " [0. 0. 0. ... 0. 0. 0.]\n",
            " [0. 0. 0. ... 0. 0. 0.]\n",
            " ...\n",
            " [0. 0. 0. ... 0. 0. 0.]\n",
            " [0. 0. 0. ... 0. 0. 0.]\n",
            " [0. 0. 0. ... 0. 0. 0.]]\n"
          ],
          "name": "stdout"
        }
      ]
    },
    {
      "cell_type": "code",
      "metadata": {
        "colab": {
          "base_uri": "https://localhost:8080/"
        },
        "id": "ofUwuAItUTaR",
        "outputId": "a9ee980c-97b4-4775-93d4-a41425c39963"
      },
      "source": [
        "from sklearn.metrics import accuracy_score\r\n",
        "print(\"Accuracy Score for the algorithm=>{}%\".format(round(accuracy_score(z_test,z_pred)*100),2))"
      ],
      "execution_count": 151,
      "outputs": [
        {
          "output_type": "stream",
          "text": [
            "Accuracy Score for the algorithm=>44%\n"
          ],
          "name": "stdout"
        }
      ]
    },
    {
      "cell_type": "code",
      "metadata": {
        "colab": {
          "base_uri": "https://localhost:8080/"
        },
        "id": "9l_nduazSQAB",
        "outputId": "643ff608-3703-4158-b1a3-9b7592624060"
      },
      "source": [
        "y_pred= model.predict(X_test)\r\n",
        "y_pred=np.round(y_pred)\r\n",
        "np.set_printoptions(precision=2)\r\n",
        "print(y_pred)\r\n"
      ],
      "execution_count": 148,
      "outputs": [
        {
          "output_type": "stream",
          "text": [
            "[[0. 0. 0. ... 0. 0. 0.]\n",
            " [0. 0. 0. ... 0. 0. 0.]\n",
            " [0. 0. 0. ... 1. 0. 0.]\n",
            " ...\n",
            " [0. 0. 0. ... 0. 0. 0.]\n",
            " [0. 0. 0. ... 0. 0. 0.]\n",
            " [0. 0. 0. ... 0. 0. 0.]]\n"
          ],
          "name": "stdout"
        }
      ]
    },
    {
      "cell_type": "code",
      "metadata": {
        "colab": {
          "base_uri": "https://localhost:8080/"
        },
        "id": "ck9T2eTcUVaB",
        "outputId": "d02e04a7-56bc-43c2-c6ad-97081559a1db"
      },
      "source": [
        "from sklearn.metrics import accuracy_score\r\n",
        "print(\"Accuracy Score for the algorithm=>{}%\".format(round(accuracy_score(y_test,y_pred)*100),2))"
      ],
      "execution_count": 149,
      "outputs": [
        {
          "output_type": "stream",
          "text": [
            "Accuracy Score for the algorithm=>81%\n"
          ],
          "name": "stdout"
        }
      ]
    }
  ]
}